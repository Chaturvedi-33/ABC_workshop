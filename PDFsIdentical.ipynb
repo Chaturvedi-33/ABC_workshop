{
  "nbformat": 4,
  "nbformat_minor": 0,
  "metadata": {
    "colab": {
      "provenance": [],
      "authorship_tag": "ABX9TyPIIxkZ5cZyq+pqFsfxzzbf",
      "include_colab_link": true
    },
    "kernelspec": {
      "name": "python3",
      "display_name": "Python 3"
    },
    "language_info": {
      "name": "python"
    }
  },
  "cells": [
    {
      "cell_type": "markdown",
      "metadata": {
        "id": "view-in-github",
        "colab_type": "text"
      },
      "source": [
        "<a href=\"https://colab.research.google.com/github/Chaturvedi-33/ABC_workshop/blob/main/PDFsIdentical.ipynb\" target=\"_parent\"><img src=\"https://colab.research.google.com/assets/colab-badge.svg\" alt=\"Open In Colab\"/></a>"
      ]
    },
    {
      "cell_type": "code",
      "execution_count": 1,
      "metadata": {
        "colab": {
          "base_uri": "https://localhost:8080/",
          "height": 332
        },
        "id": "DFkmL_WSaPn0",
        "outputId": "e6e82fe0-8591-481d-aafd-a5e1d29376dc"
      },
      "outputs": [
        {
          "output_type": "error",
          "ename": "FileNotFoundError",
          "evalue": "[Errno 2] No such file or directory: 'pd1.pdf '",
          "traceback": [
            "\u001b[0;31m---------------------------------------------------------------------------\u001b[0m",
            "\u001b[0;31mFileNotFoundError\u001b[0m                         Traceback (most recent call last)",
            "\u001b[0;32m<ipython-input-1-1fbacc930b2f>\u001b[0m in \u001b[0;36m<cell line: 37>\u001b[0;34m()\u001b[0m\n\u001b[1;32m     35\u001b[0m \u001b[0;34m\u001b[0m\u001b[0m\n\u001b[1;32m     36\u001b[0m \u001b[0;34m\u001b[0m\u001b[0m\n\u001b[0;32m---> 37\u001b[0;31m \u001b[0mmsg1\u001b[0m\u001b[0;34m,\u001b[0m \u001b[0mmsg2\u001b[0m \u001b[0;34m=\u001b[0m \u001b[0mhash_file\u001b[0m\u001b[0;34m(\u001b[0m\u001b[0;34m\"pd1.pdf \"\u001b[0m\u001b[0;34m,\u001b[0m \u001b[0;34m\"pd1.pdf\"\u001b[0m\u001b[0;34m)\u001b[0m\u001b[0;34m\u001b[0m\u001b[0;34m\u001b[0m\u001b[0m\n\u001b[0m\u001b[1;32m     38\u001b[0m \u001b[0;34m\u001b[0m\u001b[0m\n\u001b[1;32m     39\u001b[0m \u001b[0;32mif\u001b[0m\u001b[0;34m(\u001b[0m\u001b[0mmsg1\u001b[0m \u001b[0;34m!=\u001b[0m \u001b[0mmsg2\u001b[0m\u001b[0;34m)\u001b[0m\u001b[0;34m:\u001b[0m\u001b[0;34m\u001b[0m\u001b[0;34m\u001b[0m\u001b[0m\n",
            "\u001b[0;32m<ipython-input-1-1fbacc930b2f>\u001b[0m in \u001b[0;36mhash_file\u001b[0;34m(fileName1, fileName2)\u001b[0m\n\u001b[1;32m     11\u001b[0m         \u001b[0mh2\u001b[0m \u001b[0;34m=\u001b[0m \u001b[0mhashlib\u001b[0m\u001b[0;34m.\u001b[0m\u001b[0msha1\u001b[0m\u001b[0;34m(\u001b[0m\u001b[0;34m)\u001b[0m\u001b[0;34m\u001b[0m\u001b[0;34m\u001b[0m\u001b[0m\n\u001b[1;32m     12\u001b[0m \u001b[0;34m\u001b[0m\u001b[0m\n\u001b[0;32m---> 13\u001b[0;31m         \u001b[0;32mwith\u001b[0m \u001b[0mopen\u001b[0m\u001b[0;34m(\u001b[0m\u001b[0mfileName1\u001b[0m\u001b[0;34m,\u001b[0m \u001b[0;34m\"rb\"\u001b[0m\u001b[0;34m)\u001b[0m \u001b[0;32mas\u001b[0m \u001b[0mfile\u001b[0m\u001b[0;34m:\u001b[0m\u001b[0;34m\u001b[0m\u001b[0;34m\u001b[0m\u001b[0m\n\u001b[0m\u001b[1;32m     14\u001b[0m \u001b[0;34m\u001b[0m\u001b[0m\n\u001b[1;32m     15\u001b[0m                 \u001b[0;31m# Use file.read() to read the size of file\u001b[0m\u001b[0;34m\u001b[0m\u001b[0;34m\u001b[0m\u001b[0m\n",
            "\u001b[0;31mFileNotFoundError\u001b[0m: [Errno 2] No such file or directory: 'pd1.pdf '"
          ]
        }
      ],
      "source": [
        "#PROGREAM FOR  PDF’S IDENTICAL\n",
        "\n",
        "import hashlib\n",
        "from difflib import SequenceMatcher\n",
        "\n",
        "\n",
        "def hash_file(fileName1, fileName2):\n",
        "\n",
        "\t# Use hashlib to store the hash of a file\n",
        "\th1 = hashlib.sha1()\n",
        "\th2 = hashlib.sha1()\n",
        "\n",
        "\twith open(fileName1, \"rb\") as file:\n",
        "\n",
        "\t\t# Use file.read() to read the size of file\n",
        "\t\t# and read the file in small chunks\n",
        "\t\t# because we cannot read the large files.\n",
        "\t\tchunk = 0\n",
        "\t\twhile chunk != b'':\n",
        "\t\t\tchunk = file.read(1024)\n",
        "\t\t\th1.update(chunk)\n",
        "\n",
        "\twith open(fileName2, \"rb\") as file:\n",
        "\n",
        "\t\t# Use file.read() to read the size of file a\n",
        "\t\t# and read the file in small chunks\n",
        "\t\t# because we cannot read the large files.\n",
        "\t\tchunk = 0\n",
        "\t\twhile chunk != b'':\n",
        "\t\t\tchunk = file.read(1024)\n",
        "\t\t\th2.update(chunk)\n",
        "\n",
        "\t\t# hexdigest() is of 160 bits\n",
        "\t\treturn h1.hexdigest(), h2.hexdigest()\n",
        "\n",
        "\n",
        "msg1, msg2 = hash_file(\"pd1.pdf \", \"pd1.pdf\")\n",
        "\n",
        "if(msg1 != msg2):\n",
        "\tprint(\"These files are not identical\")\n",
        "else:\n",
        "\tprint(\"These files are identical\")\n"
      ]
    }
  ]
}